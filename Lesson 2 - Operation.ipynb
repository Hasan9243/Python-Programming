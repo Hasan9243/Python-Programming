{
 "cells": [
  {
   "cell_type": "code",
   "execution_count": 1,
   "metadata": {},
   "outputs": [
    {
     "name": "stdout",
     "output_type": "stream",
     "text": [
      "Sum = 18 Sub = -8 Product = 210 Quiotent = 0.8333333333333334 Remainder = 0.8333333333333334 Floored div = 0 Power of a = 625\n"
     ]
    }
   ],
   "source": [
    "#Lesson 2-Operation\n",
    "    #Artihmetic Operation\n",
    "    #Logical Operation\n",
    "    #Bitwise Operation\n",
    "    #Relational Operation\n",
    "\n",
    "#Arithmetic operation\n",
    "\n",
    "a,b,c=5,6,7\n",
    "sum=a+b+c\n",
    "sub=a-b-c\n",
    "mul=a*b*c\n",
    "div=a/b\n",
    "mod=a%b\n",
    "f_div=a//b\n",
    "pow=a**4\n",
    "\n",
    "print(\"Sum =\",sum,\"Sub =\",sub,\"Product =\",mul,\"Quiotent =\",div,\"Remainder =\",div,\"Floored div =\",f_div,\"Power of a =\",pow)"
   ]
  },
  {
   "cell_type": "code",
   "execution_count": 2,
   "metadata": {},
   "outputs": [
    {
     "name": "stdout",
     "output_type": "stream",
     "text": [
      "True\n",
      "False\n",
      "True\n",
      "False\n",
      "True\n",
      "True\n"
     ]
    }
   ],
   "source": [
    "#Relational Operation\n",
    "\n",
    "a,b,c=5,6,7\n",
    "print(a<b)\n",
    "print(a>b)\n",
    "print(a<=b)\n",
    "print(a>=b)\n",
    "print(a!=b)\n",
    "print(a<b<c)"
   ]
  },
  {
   "cell_type": "code",
   "execution_count": 3,
   "metadata": {},
   "outputs": [
    {
     "name": "stdout",
     "output_type": "stream",
     "text": [
      "Bitwiese and= 4\n",
      "Bitwiese or= 7\n",
      "Bitwiese Exclusive or= 3\n",
      "Bitwiese not= -6\n",
      "Bitwise Left Shift= 20\n",
      "Bitwiese Right Shift= 1\n"
     ]
    }
   ],
   "source": [
    "#Bitwise Operation\n",
    "a,b=5,6\n",
    "\n",
    "print(\"Bitwiese and=\",a&b)\n",
    "print(\"Bitwiese or=\",a|b)\n",
    "print(\"Bitwiese Exclusive or=\",a^b)\n",
    "print(\"Bitwiese not=\",~a)\n",
    "    #print -6, at first find 1's complement of a, then action the print value is 1's and 2's , the result is same \n",
    "print(\"Bitwise Left Shift=\",a<<2)\n",
    "print(\"Bitwiese Right Shift=\",a>>2)\n",
    "\n"
   ]
  }
 ],
 "metadata": {
  "kernelspec": {
   "display_name": "Python 3",
   "language": "python",
   "name": "python3"
  },
  "language_info": {
   "codemirror_mode": {
    "name": "ipython",
    "version": 3
   },
   "file_extension": ".py",
   "mimetype": "text/x-python",
   "name": "python",
   "nbconvert_exporter": "python",
   "pygments_lexer": "ipython3",
   "version": "3.7.3"
  }
 },
 "nbformat": 4,
 "nbformat_minor": 2
}
