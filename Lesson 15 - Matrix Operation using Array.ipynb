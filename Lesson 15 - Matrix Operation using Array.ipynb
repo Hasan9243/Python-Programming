{
 "cells": [
  {
   "cell_type": "code",
   "execution_count": 1,
   "metadata": {},
   "outputs": [
    {
     "name": "stdout",
     "output_type": "stream",
     "text": [
      "[[1 2 3]\n",
      " [4 5 6]]\n",
      "Addition Operation of Matrix\n",
      " [[ 2  4  6]\n",
      " [ 8 10 12]]\n",
      "Multiplication operation in matrix\n",
      " [[22 28]\n",
      " [49 64]]\n",
      "Transprose matrix\n",
      " [[1 3 5]\n",
      " [2 4 6]]\n",
      "Inverse Matrix\n",
      " [[ 1.77777778 -0.77777778]\n",
      " [-1.36111111  0.61111111]]\n",
      "4\n",
      "10\n",
      "[ 8 10 12]\n",
      "[ 6 12]\n"
     ]
    }
   ],
   "source": [
    "#Matrix Operation using array\n",
    "\n",
    "import numpy as np\n",
    "a=np.array([[1,2,3],[4,5,6]])\n",
    "print(a)\n",
    "\n",
    "b=np.array([[1,2,3],[4,5,6]])\n",
    "\n",
    "c=a+b #adding two matrices\n",
    "print(\"Addition Operation of Matrix\\n\",c)\n",
    "\n",
    "d=np.array([[1,2],[3,4],[5,6]])\n",
    "mul=a.dot(d)\n",
    "print(\"Multiplication operation in matrix\\n\",mul)\n",
    "\n",
    "print(\"Transprose matrix\\n\",d.transpose())\n",
    "\n",
    "print(\"Inverse Matrix\\n\",np.linalg.inv(mul) )\n",
    "\n",
    "#accessing matrix\n",
    "\n",
    "print(c[0][1])\n",
    "print(c[1][1])\n",
    "\n",
    "\n",
    "#Accessing row\n",
    "\n",
    "print(c[1])\n",
    "\n",
    "#Accessing Coloumn\n",
    "print(c[:,2])"
   ]
  }
 ],
 "metadata": {
  "kernelspec": {
   "display_name": "Python 3",
   "language": "python",
   "name": "python3"
  },
  "language_info": {
   "codemirror_mode": {
    "name": "ipython",
    "version": 3
   },
   "file_extension": ".py",
   "mimetype": "text/x-python",
   "name": "python",
   "nbconvert_exporter": "python",
   "pygments_lexer": "ipython3",
   "version": "3.7.3"
  }
 },
 "nbformat": 4,
 "nbformat_minor": 2
}
