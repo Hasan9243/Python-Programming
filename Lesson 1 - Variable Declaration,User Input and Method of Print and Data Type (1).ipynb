{
 "cells": [
  {
   "cell_type": "code",
   "execution_count": 1,
   "metadata": {},
   "outputs": [
    {
     "name": "stdout",
     "output_type": "stream",
     "text": [
      "Declaration Method of Single Variable\n",
      "a = 5 \n",
      "b = 6 \n",
      "str = Bangladesh\n",
      "\n",
      "Chain Assignment\n",
      "a = 5 \n",
      "b = 5\n",
      "\n",
      "Multiple Assignment\n",
      "a = 3 b = 4 c = 5\n"
     ]
    }
   ],
   "source": [
    "# Lesson -1 = Variable Declaration,User Input and Method of Print and Data Type\n",
    "\n",
    "#Part-1 = Variable Declaration\n",
    "\n",
    "#Single variable declaration\n",
    "\n",
    "a=5\n",
    "b=6\n",
    "str='Bangladesh'\n",
    "\n",
    "print(\"Declaration Method of Single Variable\")\n",
    "print(\"a =\",a,\"\\nb =\",b,\"\\nstr =\",str)\n",
    "\n",
    "\n",
    "#Chain Assignment\n",
    "\n",
    "a=b=5\n",
    "print(\"\\nChain Assignment\")\n",
    "print(\"a =\",a,\"\\nb =\",b)\n",
    "\n",
    "#Multiple Assignment\n",
    "\n",
    "a,b,c=3,4,5\n",
    "print(\"\\nMultiple Assignment\")\n",
    "print(\"a =\",a,\"b =\",b,\"c =\",c)\n"
   ]
  },
  {
   "cell_type": "code",
   "execution_count": 2,
   "metadata": {},
   "outputs": [
    {
     "name": "stdout",
     "output_type": "stream",
     "text": [
      "5 6\n",
      "The value of x=5 and y=6\n"
     ]
    }
   ],
   "source": [
    "# Print Method\n",
    "\n",
    "x,y=5,6\n",
    "\n",
    "print(x,y)\n",
    "print(\"The value of x={} and y={}\".format(x,y)) #This is calle dstring format method\n"
   ]
  },
  {
   "cell_type": "code",
   "execution_count": 3,
   "metadata": {},
   "outputs": [
    {
     "name": "stdout",
     "output_type": "stream",
     "text": [
      "Enter a number or string Hasan\n",
      "Enter an Integer number 5\n",
      "Enter a number but not string 6\n",
      "Hasan 5 6\n"
     ]
    }
   ],
   "source": [
    "#User Input\n",
    "\n",
    "a=input(\"Enter a number or string \")\n",
    "b=int(input(\"Enter an Integer number \"))\n",
    "c=eval(input(\"Enter a number but not string \"))\n",
    "\n",
    "print(a,b,c)"
   ]
  },
  {
   "cell_type": "code",
   "execution_count": 4,
   "metadata": {},
   "outputs": [
    {
     "name": "stdout",
     "output_type": "stream",
     "text": [
      "None\n",
      "(4+4.5j)\n",
      "<class 'complex'>\n",
      "I love my country\n",
      "<class 'str'>\n",
      "[4, 5, 6, 'ABC', 4.5]\n",
      "<class 'list'>\n",
      "{(4, 5), 2, 4, 'abc'}\n",
      "<class 'set'>\n",
      "(3, 4, 4.5, 'ASC', (4, 5))\n",
      "<class 'tuple'>\n",
      "{'Salem': 'HTC', 'Mahi': 'Iphone'}\n",
      "HTC\n",
      "Iphone\n",
      "dict_keys(['Salem', 'Mahi'])\n",
      "dict_values(['HTC', 'Iphone'])\n",
      "dict_items([('Salem', 'HTC'), ('Mahi', 'Iphone')])\n",
      "<class 'dict'>\n",
      "range(0, 10)\n",
      "In List = [0, 1, 2, 3, 4, 5, 6, 7, 8, 9]\n",
      "IN Tuple = (0, 1, 2, 3, 4, 5, 6, 7, 8, 9)\n",
      "[5, 10, 15, 20, 25, 30, 35, 40, 45]\n",
      "(5, 10, 15, 20, 25, 30, 35, 40, 45)\n"
     ]
    }
   ],
   "source": [
    "#Data Type\n",
    "\n",
    "    #None\n",
    "    #Numeric\n",
    "        #Integer\n",
    "        #Float\n",
    "        #Complex\n",
    "        #Bool\n",
    "    #String\n",
    "    #List\n",
    "    #Set\n",
    "    #Tuple\n",
    "    #Dictionary\n",
    "    #Range\n",
    "\n",
    "#None\n",
    "\n",
    "ch=None\n",
    "print(ch)\n",
    "\n",
    "#Numeric\n",
    "a=4\n",
    "b=4.5\n",
    "c=complex(a,b)\n",
    "print(c)\n",
    "print(type(c))\n",
    "\n",
    "#String\n",
    "\n",
    "str=\"I love my country\"\n",
    "print(str)\n",
    "print(type(str))\n",
    "\n",
    "#List\n",
    "\n",
    "List=[4,5,6,'ABC',4.5]\n",
    "print(List)\n",
    "print(type(List))\n",
    "\n",
    "#Set\n",
    "\n",
    "set={2,4,(4,5),'abc'}\n",
    "print(set)\n",
    "print (type(set))\n",
    "\n",
    "#Tuple\n",
    "\n",
    "t=(3,4,4.5,'ASC',(4,5))\n",
    "print(t)\n",
    "print(type(t))\n",
    "\n",
    "#Dictionary\n",
    "\n",
    "d={'Salem':'HTC','Mahi':'Iphone'}\n",
    "print(d)\n",
    "print(d['Salem'])\n",
    "print(d.get('Mahi'))\n",
    "print(d.keys())\n",
    "print(d.values())\n",
    "print(d.items())\n",
    "print(type(d))\n",
    "\n",
    "#Range\n",
    "print(range(10))\n",
    "print(\"In List =\",list(range(10)))\n",
    "print(\"IN Tuple =\",tuple(range(10)))\n",
    "\n",
    "print(list(range(5,50,5)))\n",
    "print(tuple(range(5,50,5)))\n",
    "\n",
    "     \n",
    "\n",
    "\n",
    "                 "
   ]
  }
 ],
 "metadata": {
  "kernelspec": {
   "display_name": "Python 3",
   "language": "python",
   "name": "python3"
  },
  "language_info": {
   "codemirror_mode": {
    "name": "ipython",
    "version": 3
   },
   "file_extension": ".py",
   "mimetype": "text/x-python",
   "name": "python",
   "nbconvert_exporter": "python",
   "pygments_lexer": "ipython3",
   "version": "3.7.3"
  }
 },
 "nbformat": 4,
 "nbformat_minor": 2
}
