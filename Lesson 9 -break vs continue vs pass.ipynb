{
 "cells": [
  {
   "cell_type": "code",
   "execution_count": 2,
   "metadata": {},
   "outputs": [
    {
     "name": "stdout",
     "output_type": "stream",
     "text": [
      "Continue statement is in following \n",
      "1\n",
      "3\n",
      "5\n",
      "7\n",
      "9\n",
      "11\n",
      "13\n",
      "15\n",
      "17\n",
      "19\n",
      "Break Statement is in following \n",
      "1\n",
      "Pass Statement is in following \n",
      "1\n",
      "3\n",
      "5\n",
      "7\n",
      "9\n",
      "11\n",
      "13\n",
      "15\n",
      "17\n",
      "19\n"
     ]
    }
   ],
   "source": [
    "#Lesson 9 - Break vs Continue vs Pass\n",
    "\n",
    "print(\"Continue statement is in following \")\n",
    "for i in range(1,20):\n",
    "    if(i%2==0):\n",
    "        continue\n",
    "    print(i)\n",
    "\n",
    "print(\"Break Statement is in following \")   \n",
    "for i in range (1,20):\n",
    "    if(i%2==0):\n",
    "        break\n",
    "    print(i)\n",
    "\n",
    "print(\"Pass Statement is in following \")\n",
    "for i in range (1,20):\n",
    "    if(i%2==0):\n",
    "        pass\n",
    "    \n",
    "    else:\n",
    "        print(i)\n",
    "        \n",
    "        \n",
    "#note- Pass is not ignored by interpreter but interpretet to do nothing, pass is used only for showed"
   ]
  }
 ],
 "metadata": {
  "kernelspec": {
   "display_name": "Python 3",
   "language": "python",
   "name": "python3"
  },
  "language_info": {
   "codemirror_mode": {
    "name": "ipython",
    "version": 3
   },
   "file_extension": ".py",
   "mimetype": "text/x-python",
   "name": "python",
   "nbconvert_exporter": "python",
   "pygments_lexer": "ipython3",
   "version": "3.7.3"
  }
 },
 "nbformat": 4,
 "nbformat_minor": 2
}
