{
 "cells": [
  {
   "cell_type": "code",
   "execution_count": 1,
   "metadata": {},
   "outputs": [
    {
     "name": "stdout",
     "output_type": "stream",
     "text": [
      "{1, 2, 3, 4}\n",
      "{1, 2, 3, 4, 'abc'}\n",
      "{1, 2, 3, 4, 'abc', (5, 6, 7)}\n",
      "{1, 2, 3, 'abc', (5, 6, 7)}\n",
      "True\n",
      "False\n",
      "False\n",
      "True\n",
      "{2, 3, 4, 5, 6}\n",
      "{2, 3, 4, 5}\n",
      "False\n",
      "set()\n",
      "False\n",
      "True\n",
      "2\n",
      "3\n",
      "{2, 3, 4, 5, 6}\n",
      "None\n"
     ]
    }
   ],
   "source": [
    "#Lesson-6 = SET\n",
    "\n",
    "set={1,2,3,4}\n",
    "\n",
    "#Set is an unordered and unindexed collection of elements and can't access the element from given index\n",
    "\n",
    "print(set)\n",
    "\n",
    "#Inserting and removing element into the set\n",
    "set.add('abc')\n",
    "print(set)\n",
    "set.add((5,6,7))\n",
    "print(set)\n",
    "set.remove(4)\n",
    "print(set)\n",
    "\n",
    "#Operation of set\n",
    "\n",
    "#checking whether an element into the set\n",
    "print(3 in set)\n",
    "print(7 in set)\n",
    "print(100 in set)\n",
    "print((5,6,7) in set)\n",
    "\n",
    "#Union, Intersection, Differencee, Copy, Clear,issubset, POP Operation\n",
    "\n",
    "set1={2,3,4,5}\n",
    "set2={2,3,4,5,6}\n",
    "print(set1.union(set2))\n",
    "print(set1.intersection(set2))\n",
    "print(set1.isdisjoint(set2))\n",
    "print(set1.difference(set2))\n",
    "print(set2.issubset(set1))\n",
    "print(set1.issubset(set2))\n",
    "print(set1.pop())\n",
    "print(set1.pop())\n",
    "set3=set2.copy()\n",
    "print(set3)\n",
    "print(set3.clear())\n"
   ]
  }
 ],
 "metadata": {
  "kernelspec": {
   "display_name": "Python 3",
   "language": "python",
   "name": "python3"
  },
  "language_info": {
   "codemirror_mode": {
    "name": "ipython",
    "version": 3
   },
   "file_extension": ".py",
   "mimetype": "text/x-python",
   "name": "python",
   "nbconvert_exporter": "python",
   "pygments_lexer": "ipython3",
   "version": "3.7.3"
  }
 },
 "nbformat": 4,
 "nbformat_minor": 2
}
