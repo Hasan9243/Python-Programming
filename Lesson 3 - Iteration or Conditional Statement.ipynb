{
 "cells": [
  {
   "cell_type": "code",
   "execution_count": 2,
   "metadata": {},
   "outputs": [
    {
     "name": "stdout",
     "output_type": "stream",
     "text": [
      "Enter a Number 8\n",
      "8 is greater than 5\n"
     ]
    }
   ],
   "source": [
    "#Lesson3-Iteration or Conditional Statement\n",
    "\n",
    "#Part -1=Nested if-else\n",
    "\n",
    "a=eval(input(\"Enter a Number \"))\n",
    "if(a<5):\n",
    "    print(\"{} is less than 5\".format(a))\n",
    "elif 5==a:\n",
    "    print(\"{} is equal to 5\".format(a))\n",
    "else:\n",
    "    print(\"{} is greater than 5\".format(a))\n",
    "    \n",
    "    \n"
   ]
  },
  {
   "cell_type": "code",
   "execution_count": 3,
   "metadata": {},
   "outputs": [
    {
     "name": "stdout",
     "output_type": "stream",
     "text": [
      "Enter a Year 1998\n",
      "1998 is not leap year\n"
     ]
    }
   ],
   "source": [
    "#Leap Year Problem\n",
    "\n",
    "y=eval(input(\"Enter a Year \"))\n",
    "\n",
    "if(y%4)==0:\n",
    "    if(y%100)==0:\n",
    "        if(y%400)==0:\n",
    "            print(\"{} is a leap year\".format(y))\n",
    "        else:\n",
    "            print(\"{} is not leap year\".format(y))\n",
    "    else:\n",
    "        print(\"{} is a leap year\".format(y))\n",
    "else:\n",
    "    print(\"{} is not leap year\".format(y))\n"
   ]
  },
  {
   "cell_type": "code",
   "execution_count": 4,
   "metadata": {},
   "outputs": [
    {
     "name": "stdout",
     "output_type": "stream",
     "text": [
      "Enter a number 6\n"
     ]
    },
    {
     "data": {
      "text/plain": [
       "720"
      ]
     },
     "execution_count": 4,
     "metadata": {},
     "output_type": "execute_result"
    }
   ],
   "source": [
    "#Factorial Problem\n",
    "\n",
    "def fac(a):\n",
    "\n",
    "        if a==0 or a==1 or a==2:\n",
    "            return a\n",
    "        else:\n",
    "    \n",
    "            return a*fac(a-1)\n",
    "    \n",
    "\n",
    "    \n",
    "    \n",
    "n=eval(input(\"Enter a number \"))\n",
    "fac(n)\n",
    "\n"
   ]
  },
  {
   "cell_type": "code",
   "execution_count": 5,
   "metadata": {},
   "outputs": [
    {
     "name": "stdout",
     "output_type": "stream",
     "text": [
      "5\n",
      "1\n",
      "Not Prime\n",
      "2\n",
      "Prime\n",
      "3\n",
      "Prime\n",
      "4\n",
      "Not Prime\n",
      "5\n",
      "Prime\n"
     ]
    }
   ],
   "source": [
    "\n",
    "\n",
    "def prime(num):\n",
    "    if num>1:\n",
    "        i=2\n",
    "        flag=0\n",
    "        while(i*i<=num):\n",
    "            if num%i==0:\n",
    "                flag=1\n",
    "            i+=1\n",
    "\n",
    "        if flag==1:\n",
    "            print(\"Not Prime\")\n",
    "        else:\n",
    "            print(\"Prime\")\n",
    "    else:\n",
    "        print(\"Not Prime\")\n",
    "\n",
    "\n",
    "\n",
    "t=eval(input())\n",
    "for i in range(t):\n",
    "    num=eval(input())\n",
    "    prime(num)\n",
    "   "
   ]
  },
  {
   "cell_type": "code",
   "execution_count": 9,
   "metadata": {},
   "outputs": [
    {
     "name": "stdout",
     "output_type": "stream",
     "text": [
      "Enter a number of testcase 3\n",
      "Enter a number 5\n",
      "2\n",
      "3\n",
      "5\n",
      "Enter a number 7\n",
      "2\n",
      "3\n",
      "5\n",
      "7\n",
      "Enter a number 9\n",
      "2\n",
      "3\n",
      "5\n",
      "7\n"
     ]
    }
   ],
   "source": [
    "def sot(num):\n",
    "    prime=[True for i in range(num+1)]\n",
    "    p=2\n",
    "    \n",
    "    while(p*p<=num):\n",
    "        if prime[p]==True:\n",
    "            for i in range(p*p,num+1,p):\n",
    "                prime[i]=False\n",
    "        p+=1\n",
    "    \n",
    "    for i in range(2,num+1):\n",
    "        if prime[i]==True:\n",
    "            print(i)\n",
    "            \n",
    "n=eval(input(\"Enter a number of testcase \"))\n",
    "for i in range(n):\n",
    "    num=eval(input(\"Enter a number \"))\n",
    "    sot(num)"
   ]
  },
  {
   "cell_type": "code",
   "execution_count": null,
   "metadata": {},
   "outputs": [],
   "source": []
  }
 ],
 "metadata": {
  "kernelspec": {
   "display_name": "Python 3",
   "language": "python",
   "name": "python3"
  },
  "language_info": {
   "codemirror_mode": {
    "name": "ipython",
    "version": 3
   },
   "file_extension": ".py",
   "mimetype": "text/x-python",
   "name": "python",
   "nbconvert_exporter": "python",
   "pygments_lexer": "ipython3",
   "version": "3.7.3"
  }
 },
 "nbformat": 4,
 "nbformat_minor": 2
}
