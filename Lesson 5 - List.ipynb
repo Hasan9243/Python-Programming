{
 "cells": [
  {
   "cell_type": "code",
   "execution_count": 1,
   "metadata": {},
   "outputs": [
    {
     "name": "stdout",
     "output_type": "stream",
     "text": [
      "[7, 5, 6, 7, 'bangladesh', (8, 6.7, 9)]\n",
      "[7, 5, 6, 7, 'bangladesh', (8, 6.7, 9)]\n",
      "[5, 6, 7, 'bangladesh', (8, 6.7, 9)]\n",
      "[7, 5, 6, 7]\n",
      "bangladesh\n",
      "[7, 5, 6, 7, 'bangladesh', (8, 6.7, 9)]\n",
      "9\n",
      "[7, 5, 6, 7, 'bangladesh', (8, 6.7, 9), 50]\n",
      "[7, 5, 6, 7, 'bangladesh', (8, 6.7, 9), 50, 40, 45, 60, (78, 80)]\n",
      "[7, 5, 6, (109, 65), 7, 'bangladesh', (8, 6.7, 9), 50, 40, 45, 60, (78, 80)]\n",
      "[7, 5, 6, (109, 65), 7, (8, 6.7, 9), 50, 40, 45, 60, (78, 80)]\n",
      "[7, 5, 6, (109, 65), 7, 50, 40, 45, 60, (78, 80)]\n",
      "(78, 80)\n",
      "[7, 5, 6, (109, 65), 7, 50, 40, 45, 60]\n",
      "None\n",
      "[1, 2, 3, 4, 5]\n"
     ]
    }
   ],
   "source": [
    "#Lesson -5 = List \n",
    "#A List is a Data Type where different types of data is stored\n",
    "\n",
    "\n",
    "List=[7,5,6,7,'bangladesh',(8,6.7,9)]\n",
    "print(List)\n",
    "\n",
    "#Slicing operation of a List\n",
    "\n",
    "print(List[0:6]) #Print Data index 0 to 5 form List\n",
    "print(List[1:]) #print data index from 0 to last\n",
    "print(List[:4]) #print data index 0 to 3\n",
    "print(List[4]) #print data only from given index\n",
    "print(List[:]) #print full List\n",
    "print(List[5][2]) #print specific data in a given range\n",
    "\n",
    "#Inserting elements into the list\n",
    "\n",
    "#Inserting Single value\n",
    "\n",
    "List.append(50)\n",
    "print(List)\n",
    "\n",
    "#Inserting Multiple value\n",
    "\n",
    "List.extend([40,45,60,(78,80)])\n",
    "print(List)\n",
    "\n",
    "#Inserting data into a given index\n",
    "List.insert(3,(109,65)) # (Index no, Data), if multiple value want to be inserted, then parenthesis() is used.\n",
    "print(List)\n",
    "\n",
    "\n",
    "#Deleting elements from the list\n",
    "#For Deleting, we use remove(),pop(),clear()\n",
    "\n",
    "#Deleting value from list to insert specified data\n",
    "List.remove('bangladesh');\n",
    "print(List)\n",
    "\n",
    "##Deleting value from list to given index\n",
    "List.pop(5)\n",
    "print(List)\n",
    "print(List.pop())\n",
    "print(List)\n",
    "\n",
    "#Deleting for full List\n",
    "print(List.clear())\n",
    "List=[1,2,3,4,5]\n",
    "print(List)"
   ]
  }
 ],
 "metadata": {
  "kernelspec": {
   "display_name": "Python 3",
   "language": "python",
   "name": "python3"
  },
  "language_info": {
   "codemirror_mode": {
    "name": "ipython",
    "version": 3
   },
   "file_extension": ".py",
   "mimetype": "text/x-python",
   "name": "python",
   "nbconvert_exporter": "python",
   "pygments_lexer": "ipython3",
   "version": "3.7.3"
  }
 },
 "nbformat": 4,
 "nbformat_minor": 2
}
