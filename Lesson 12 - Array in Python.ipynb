{
 "cells": [
  {
   "cell_type": "code",
   "execution_count": 1,
   "metadata": {},
   "outputs": [
    {
     "name": "stdout",
     "output_type": "stream",
     "text": [
      "array('i', [5, 10, -45, 20, 25])\n",
      "(92722568, 5)\n",
      "array('i', [25, 20, -45, 10, 5])\n",
      "i\n",
      "array('u', 'abc')\n",
      "25\n",
      "20\n",
      "-45\n",
      "10\n",
      "5\n",
      "creating an array and copy\n",
      "25\n",
      "20\n",
      "-45\n",
      "10\n",
      "5\n",
      "array in while loop\n",
      "25\n",
      "-45\n",
      "5\n"
     ]
    }
   ],
   "source": [
    "#Array in Python\n",
    "\n",
    "\n",
    "from array import *\n",
    "\n",
    "a=array('i',[5,10,-45,20,25])\n",
    "print(a) #output  =a rray('i', [5, 10, 15, 20, 25])\n",
    "\n",
    "print(a.buffer_info()) # return [address,length of array]\n",
    "a.reverse();\n",
    "print(a) #reverse of array\n",
    "print(a.typecode)\n",
    "\n",
    "char=array('u',['a','b','c']) #Only unicode character\n",
    "print(char)\n",
    "\n",
    "\n",
    "for i in range (len(a)):\n",
    "    print(a[i])\n",
    "    \n",
    "\n",
    "print(\"creating an array and copy\")\n",
    "newarray=array(a.typecode,(j for j in a))\n",
    "\n",
    "for k in range (len(newarray)):\n",
    "    print(newarray[k])\n",
    "    \n",
    "    \n",
    "    \n",
    "print('array in while loop')\n",
    "    \n",
    "i=0\n",
    "\n",
    "while i<len(newarray):\n",
    "    print(newarray[i])\n",
    "    i+=2\n",
    "    "
   ]
  },
  {
   "cell_type": "code",
   "execution_count": 2,
   "metadata": {},
   "outputs": [
    {
     "name": "stdout",
     "output_type": "stream",
     "text": [
      "array('i', [2, 3, 4, 5])\n",
      "(90378640, 4)\n",
      "array('i', [5, 4, 3, 2])\n",
      "array('i', [5, 4, 3, 2])\n",
      "5 4 3 2 \n",
      "i\n",
      "4\n"
     ]
    }
   ],
   "source": [
    "from array import *\n",
    "\n",
    "a=array('i',[2,3,4,5])\n",
    "print (a)\n",
    "\n",
    "print(a.buffer_info())\n",
    "\n",
    "a.reverse()\n",
    "print(a)\n",
    "\n",
    "arr=array(a.typecode,(j for j in a))\n",
    "print(arr)\n",
    "\n",
    "for i in range (len(arr)):\n",
    "    print(arr[i],end=\" \")\n",
    "\n",
    "print()\n",
    "print(arr.typecode)\n",
    "\n",
    "print(len(arr))"
   ]
  }
 ],
 "metadata": {
  "kernelspec": {
   "display_name": "Python 3",
   "language": "python",
   "name": "python3"
  },
  "language_info": {
   "codemirror_mode": {
    "name": "ipython",
    "version": 3
   },
   "file_extension": ".py",
   "mimetype": "text/x-python",
   "name": "python",
   "nbconvert_exporter": "python",
   "pygments_lexer": "ipython3",
   "version": "3.7.3"
  }
 },
 "nbformat": 4,
 "nbformat_minor": 2
}
