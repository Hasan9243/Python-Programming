{
 "cells": [
  {
   "cell_type": "code",
   "execution_count": 1,
   "metadata": {},
   "outputs": [
    {
     "name": "stdout",
     "output_type": "stream",
     "text": [
      "0b11001\n",
      "0o31\n",
      "0x19\n",
      "-0b11001\n",
      "-0o31\n",
      "-0x19\n",
      "15\n",
      "11\n",
      "7\n",
      "63\n",
      "3 2\n"
     ]
    }
   ],
   "source": [
    "#Lesson -8=Number conversion, swap\n",
    "\n",
    "a=25\n",
    "\n",
    "print(bin(a))\n",
    "print(oct(a))\n",
    "print(hex(a))\n",
    "\n",
    "a=-25\n",
    "\n",
    "print(bin(a))\n",
    "print(oct(a))\n",
    "print(hex(a))\n",
    "\n",
    "b=0b1111\n",
    "print(b)\n",
    "\n",
    "b1=0b0101\n",
    "h=0xB\n",
    "print(h)\n",
    "\n",
    "o=0o7\n",
    "print(o)\n",
    "\n",
    "o=0o77\n",
    "print(o)\n",
    "\n",
    "a,b=2,3\n",
    "a,b=b,a\n",
    "print(a,b)"
   ]
  }
 ],
 "metadata": {
  "kernelspec": {
   "display_name": "Python 3",
   "language": "python",
   "name": "python3"
  },
  "language_info": {
   "codemirror_mode": {
    "name": "ipython",
    "version": 3
   },
   "file_extension": ".py",
   "mimetype": "text/x-python",
   "name": "python",
   "nbconvert_exporter": "python",
   "pygments_lexer": "ipython3",
   "version": "3.7.3"
  }
 },
 "nbformat": 4,
 "nbformat_minor": 2
}
