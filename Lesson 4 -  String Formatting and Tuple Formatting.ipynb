{
 "cells": [
  {
   "cell_type": "code",
   "execution_count": 1,
   "metadata": {},
   "outputs": [
    {
     "name": "stdout",
     "output_type": "stream",
     "text": [
      "e\n",
      "I love my country\n",
      "I love my\n",
      "I love my country\n",
      "I love m\n",
      "I love my coun\n",
      "I love my country very much \n",
      "I love my country very much I love my country very much I love my country very much \n"
     ]
    }
   ],
   "source": [
    "#Lesson - 4, String Formatting and Tuple Formatting\n",
    "\n",
    "#String is Immutable\n",
    "\n",
    "s=\"I love my country\"\n",
    "\n",
    "print(s[5])\n",
    "print(s)\n",
    "print(s[0:9])\n",
    "print(s[0:])\n",
    "print(s[:8])\n",
    "print(s[:-3])\n",
    "\n",
    "#String Concatenation\n",
    "s1=\" very much \"\n",
    "print(s+s1)\n",
    "\n",
    "#Repition\n",
    "print((s+s1)*3)\n",
    "\n"
   ]
  },
  {
   "cell_type": "code",
   "execution_count": 2,
   "metadata": {},
   "outputs": [
    {
     "name": "stdout",
     "output_type": "stream",
     "text": [
      "(1, 2, 3, 4, 5, 'Bang')\n",
      "(1, 2, 3, 4, 5, 'Bang')\n",
      "(1, 2, 3, 4, 5, 'Bang')\n",
      "(1, 2, 3, 4, 5)\n",
      "(1, 2)\n"
     ]
    }
   ],
   "source": [
    "# Tuple is Immutable\n",
    "\n",
    "t=(1,2,3,4,5,\"Bang\")\n",
    "\n",
    "#slicing operation\n",
    "\n",
    "print(t)\n",
    "print(t[0:9])\n",
    "print(t[0:])\n",
    "print(t[:5])\n",
    "print(t[:-4])\n",
    "\n",
    "del t\n",
    "\n",
    "\n",
    "\n"
   ]
  }
 ],
 "metadata": {
  "kernelspec": {
   "display_name": "Python 3",
   "language": "python",
   "name": "python3"
  },
  "language_info": {
   "codemirror_mode": {
    "name": "ipython",
    "version": 3
   },
   "file_extension": ".py",
   "mimetype": "text/x-python",
   "name": "python",
   "nbconvert_exporter": "python",
   "pygments_lexer": "ipython3",
   "version": "3.7.3"
  }
 },
 "nbformat": 4,
 "nbformat_minor": 2
}
