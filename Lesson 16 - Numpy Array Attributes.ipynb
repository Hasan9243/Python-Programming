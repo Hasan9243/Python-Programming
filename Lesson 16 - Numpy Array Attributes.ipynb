{
 "cells": [
  {
   "cell_type": "code",
   "execution_count": 1,
   "metadata": {},
   "outputs": [
    {
     "name": "stdout",
     "output_type": "stream",
     "text": [
      "The Shape of the Array a\n",
      " (2, 3)\n",
      "After the resize the shape\n",
      " [[1 2]\n",
      " [3 4]\n",
      " [5 6]]\n",
      "Using resshape in NUmpy for Array a\n",
      " [[1 2]\n",
      " [3 4]\n",
      " [5 6]]\n",
      "Print this array in a sequence\n",
      " [ 0  1  2  3  4  5  6  7  8  9 10 11 12 13 14 15 16 17 18 19 20 21 22 23]\n",
      "After using ndim this array is reshaped (number of matrix, row, coloumn)\n",
      " [[[ 0  1]\n",
      "  [ 2  3]\n",
      "  [ 4  5]\n",
      "  [ 6  7]]\n",
      "\n",
      " [[ 8  9]\n",
      "  [10 11]\n",
      "  [12 13]\n",
      "  [14 15]]\n",
      "\n",
      " [[16 17]\n",
      "  [18 19]\n",
      "  [20 21]\n",
      "  [22 23]]]\n"
     ]
    }
   ],
   "source": [
    "# Array Attributes using Numpy\n",
    "\n",
    "import numpy as np\n",
    "a=np.array([[1,2,3],[4,5,6]])\n",
    "\n",
    "#shape of the array (row,coloumn)\n",
    "print(\"The Shape of the Array a\\n\",a.shape)\n",
    "\n",
    "#Resize the shape\n",
    "a.shape=(3,2)\n",
    "print (\"After the resize the shape\\n\",a)\n",
    "\n",
    "#NumPy also provides a reshape function to resize an array.\n",
    "a=a.reshape(3,2)\n",
    "print(\"Using resshape in NUmpy for Array a\\n\",a)\n",
    "\n",
    "#ndarray.ndim\n",
    "#This array attribute returns the number of array dimensions\n",
    "\n",
    "a=np.arange(24)  # an array of evenly spaced numbers \n",
    "print(\"Print this array in a sequence\\n\",a)\n",
    "\n",
    "a.ndim\n",
    "a=a.reshape(3,4,2)\n",
    "print (\"After using ndim this array is reshaped (number of matrix, row, coloumn)\\n\",a)"
   ]
  }
 ],
 "metadata": {
  "kernelspec": {
   "display_name": "Python 3",
   "language": "python",
   "name": "python3"
  },
  "language_info": {
   "codemirror_mode": {
    "name": "ipython",
    "version": 3
   },
   "file_extension": ".py",
   "mimetype": "text/x-python",
   "name": "python",
   "nbconvert_exporter": "python",
   "pygments_lexer": "ipython3",
   "version": "3.7.3"
  }
 },
 "nbformat": 4,
 "nbformat_minor": 2
}
