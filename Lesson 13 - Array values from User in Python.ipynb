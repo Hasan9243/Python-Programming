{
 "cells": [
  {
   "cell_type": "code",
   "execution_count": null,
   "metadata": {},
   "outputs": [],
   "source": [
    "#Array values from User in Python\n",
    "\n",
    "from array import *\n",
    "\n",
    "a=array('i',[])\n",
    "n=eval(input(\"Enter the length of array \"))\n",
    "\n",
    "for i in range(n):\n",
    "    x=eval(input(\"Enter the number \"))\n",
    "    a.append(x)\n",
    "    \n",
    "print(a)\n",
    "\n",
    "\n",
    "\n",
    "\n",
    "b=array('i',[])\n",
    "n=eval(input(\"Enter the length of array\"))\n",
    "\n",
    "j=0\n",
    "\n",
    "while j<n:\n",
    "    x=eval(input(\"Enter a number \"))\n",
    "    b.append(x)\n",
    "    j+=1\n",
    "print(b)\n",
    "\n",
    "\n",
    "#searching the element from array\n",
    "\n",
    "num=eval(input(\"Enter the number for searching index\"))\n",
    "\n",
    "k=0 #counter variable\n",
    "for ele in b:\n",
    "    if ele==num:\n",
    "        print(b.index(num))\n",
    "        break\n",
    "    k+=1"
   ]
  },
  {
   "cell_type": "code",
   "execution_count": 1,
   "metadata": {},
   "outputs": [
    {
     "name": "stdout",
     "output_type": "stream",
     "text": [
      "Enter the length of array 5\n",
      "Enter the number in array 30\n",
      "Enter the number in array 20\n",
      "Enter the number in array 50\n",
      "Enter the number in array 40\n",
      "Enter the number in array 60\n",
      "30 20 50 40 60 \n",
      "Enter a number 50\n",
      "2\n"
     ]
    }
   ],
   "source": [
    "#second example \n",
    "from array import *\n",
    "\n",
    "a=array('i',[])\n",
    "n=eval(input(\"Enter the length of array \"))\n",
    "for i in range(n):\n",
    "    x=eval(input(\"Enter the number in array \"))\n",
    "    a.append(x)\n",
    "    \n",
    "#print(a,end=\" \")\n",
    "\n",
    "arr=array(a.typecode,(j for j in a))\n",
    "\n",
    "for i in range(len(arr)):\n",
    "    print(arr[i],end=\" \")\n",
    "\n",
    "print()\n",
    "#searching an element\n",
    "\n",
    "num=eval(input(\"Enter a number \"))\n",
    "k=0\n",
    "for j in arr:\n",
    "    if j==num:\n",
    "        print(arr.index(num))\n",
    "        flag=0\n",
    "        break\n",
    "\n",
    "    else:\n",
    "        flag=1\n",
    "\n",
    "k+=1\n",
    "\n",
    "if flag==1:\n",
    "    print(\"Index not found\")\n",
    "\n",
    "\n"
   ]
  }
 ],
 "metadata": {
  "kernelspec": {
   "display_name": "Python 3",
   "language": "python",
   "name": "python3"
  },
  "language_info": {
   "codemirror_mode": {
    "name": "ipython",
    "version": 3
   },
   "file_extension": ".py",
   "mimetype": "text/x-python",
   "name": "python",
   "nbconvert_exporter": "python",
   "pygments_lexer": "ipython3",
   "version": "3.7.3"
  }
 },
 "nbformat": 4,
 "nbformat_minor": 2
}
