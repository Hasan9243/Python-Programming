{
 "cells": [
  {
   "cell_type": "code",
   "execution_count": 1,
   "metadata": {},
   "outputs": [
    {
     "name": "stdout",
     "output_type": "stream",
     "text": [
      "Hasan is used VIVO cell phone\n",
      "Salem is used HTC cell phone\n",
      "{'Hasan': 'VIVO', 'Salem': 'HTC', 'Sakib': 'Xiomi', 'Shafin': 'Iphone'}\n",
      "{'Hasan': 'VIVO', 'Salem': 'HTC', 'Shafin': 'Iphone'}\n",
      "After clear the entire data from the dictionary {}\n",
      "{'H': 'j'}\n"
     ]
    }
   ],
   "source": [
    "#Lesson 7-Dictionary \n",
    "\n",
    "#Dictionary is mutable data type\n",
    "    #['key':'value']\n",
    "    \n",
    "d={'Hasan':'VIVO','Salem':'HTC','Sakib':'Xiomi'}\n",
    "\n",
    "#Accessing dictionary value using key\n",
    "print('Hasan is used',d['Hasan'],'cell phone')\n",
    "print('Salem is used',d['Salem'],'cell phone')\n",
    "\n",
    "#Adding a new Entry\n",
    "d['Shafin']='Iphone'\n",
    "print(d)\n",
    "\n",
    "#Delete from dictionary\n",
    "del d['Sakib']\n",
    "print(d)\n",
    "\n",
    "d.clear()\n",
    "print(\"After clear the entire data from the dictionary\",d)\n",
    "del d #delete the entire dictionary\n",
    "#print(d) , error is found\n",
    "d={'H':'j'}\n",
    "print(d)"
   ]
  }
 ],
 "metadata": {
  "kernelspec": {
   "display_name": "Python 3",
   "language": "python",
   "name": "python3"
  },
  "language_info": {
   "codemirror_mode": {
    "name": "ipython",
    "version": 3
   },
   "file_extension": ".py",
   "mimetype": "text/x-python",
   "name": "python",
   "nbconvert_exporter": "python",
   "pygments_lexer": "ipython3",
   "version": "3.7.3"
  }
 },
 "nbformat": 4,
 "nbformat_minor": 2
}
